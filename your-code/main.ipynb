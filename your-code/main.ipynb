{
 "cells": [
  {
   "cell_type": "markdown",
   "metadata": {},
   "source": [
    "# Lab | Numpy Deep Dive"
   ]
  },
  {
   "cell_type": "markdown",
   "metadata": {},
   "source": [
    "### 1. Import the NUMPY package under the name np.\n"
   ]
  },
  {
   "cell_type": "code",
   "execution_count": 1,
   "metadata": {},
   "outputs": [],
   "source": [
    "import numpy as np"
   ]
  },
  {
   "cell_type": "markdown",
   "metadata": {},
   "source": [
    "\n",
    "\n",
    "### 2. Print the NUMPY version and the configuration.\n"
   ]
  },
  {
   "cell_type": "code",
   "execution_count": 2,
   "metadata": {},
   "outputs": [
    {
     "name": "stdout",
     "output_type": "stream",
     "text": [
      "NumPy Version: 1.26.0\n",
      "\n",
      "NumPy Configuration:\n",
      "{\n",
      "  \"Compilers\": {\n",
      "    \"c\": {\n",
      "      \"name\": \"clang\",\n",
      "      \"linker\": \"ld64\",\n",
      "      \"version\": \"14.0.0\",\n",
      "      \"commands\": \"clang\"\n",
      "    },\n",
      "    \"cython\": {\n",
      "      \"name\": \"cython\",\n",
      "      \"linker\": \"cython\",\n",
      "      \"version\": \"3.0.2\",\n",
      "      \"commands\": \"cython\"\n",
      "    },\n",
      "    \"c++\": {\n",
      "      \"name\": \"clang\",\n",
      "      \"linker\": \"ld64\",\n",
      "      \"version\": \"14.0.0\",\n",
      "      \"commands\": \"clang++\"\n",
      "    }\n",
      "  },\n",
      "  \"Machine Information\": {\n",
      "    \"host\": {\n",
      "      \"cpu\": \"x86_64\",\n",
      "      \"family\": \"x86_64\",\n",
      "      \"endian\": \"little\",\n",
      "      \"system\": \"darwin\"\n",
      "    },\n",
      "    \"build\": {\n",
      "      \"cpu\": \"x86_64\",\n",
      "      \"family\": \"x86_64\",\n",
      "      \"endian\": \"little\",\n",
      "      \"system\": \"darwin\"\n",
      "    }\n",
      "  },\n",
      "  \"Build Dependencies\": {\n",
      "    \"blas\": {\n",
      "      \"name\": \"openblas64\",\n",
      "      \"found\": true,\n",
      "      \"version\": \"0.3.23.dev\",\n",
      "      \"detection method\": \"pkgconfig\",\n",
      "      \"include directory\": \"/usr/local/include\",\n",
      "      \"lib directory\": \"/usr/local/lib\",\n",
      "      \"openblas configuration\": \"USE_64BITINT=1 DYNAMIC_ARCH=1 DYNAMIC_OLDER= NO_CBLAS= NO_LAPACK= NO_LAPACKE= NO_AFFINITY=1 USE_OPENMP= SANDYBRIDGE MAX_THREADS=3\",\n",
      "      \"pc file directory\": \"/usr/local/lib/pkgconfig\"\n",
      "    },\n",
      "    \"lapack\": {\n",
      "      \"name\": \"openblas64\",\n",
      "      \"found\": true,\n",
      "      \"version\": \"0.3.23.dev\",\n",
      "      \"detection method\": \"pkgconfig\",\n",
      "      \"include directory\": \"/usr/local/include\",\n",
      "      \"lib directory\": \"/usr/local/lib\",\n",
      "      \"openblas configuration\": \"USE_64BITINT=1 DYNAMIC_ARCH=1 DYNAMIC_OLDER= NO_CBLAS= NO_LAPACK= NO_LAPACKE= NO_AFFINITY=1 USE_OPENMP= SANDYBRIDGE MAX_THREADS=3\",\n",
      "      \"pc file directory\": \"/usr/local/lib/pkgconfig\"\n",
      "    }\n",
      "  },\n",
      "  \"Python Information\": {\n",
      "    \"path\": \"/private/var/folders/24/8k48jl6d249_n_qfxwsl6xvm0000gn/T/cibw-run-jjt104b0/cp311-macosx_x86_64/build/venv/bin/python\",\n",
      "    \"version\": \"3.11\"\n",
      "  },\n",
      "  \"SIMD Extensions\": {\n",
      "    \"baseline\": [\n",
      "      \"SSE\",\n",
      "      \"SSE2\",\n",
      "      \"SSE3\"\n",
      "    ],\n",
      "    \"found\": [\n",
      "      \"SSSE3\",\n",
      "      \"SSE41\",\n",
      "      \"POPCNT\",\n",
      "      \"SSE42\",\n",
      "      \"AVX\",\n",
      "      \"F16C\",\n",
      "      \"FMA3\",\n",
      "      \"AVX2\",\n",
      "      \"AVX512F\",\n",
      "      \"AVX512CD\",\n",
      "      \"AVX512_SKX\",\n",
      "      \"AVX512_CLX\",\n",
      "      \"AVX512_CNL\",\n",
      "      \"AVX512_ICL\"\n",
      "    ],\n",
      "    \"not found\": [\n",
      "      \"AVX512_KNL\"\n",
      "    ]\n",
      "  }\n",
      "}\n",
      "None\n"
     ]
    },
    {
     "name": "stderr",
     "output_type": "stream",
     "text": [
      "/Library/Frameworks/Python.framework/Versions/3.11/lib/python3.11/site-packages/numpy/__config__.py:149: UserWarning: Install `pyyaml` for better output\n",
      "  warnings.warn(\"Install `pyyaml` for better output\", stacklevel=1)\n"
     ]
    }
   ],
   "source": [
    "print(\"NumPy Version:\", np.__version__)\n",
    "\n",
    "# Print the NumPy configuration\n",
    "print(\"\\nNumPy Configuration:\")\n",
    "print(np.__config__.show())"
   ]
  },
  {
   "cell_type": "markdown",
   "metadata": {},
   "source": [
    "### 3. Generate a 2x3x5 3-dimensional array with random values. Assign the array to variable \"a\"\n",
    "Challenge: there are at least three easy ways that use numpy to generate random arrays. How many ways can you find?\n"
   ]
  },
  {
   "cell_type": "code",
   "execution_count": 3,
   "metadata": {},
   "outputs": [],
   "source": [
    "a = np.random.rand(2, 3, 5)"
   ]
  },
  {
   "cell_type": "markdown",
   "metadata": {},
   "source": [
    "\n",
    "### 4. Print a.\n"
   ]
  },
  {
   "cell_type": "code",
   "execution_count": 4,
   "metadata": {},
   "outputs": [
    {
     "name": "stdout",
     "output_type": "stream",
     "text": [
      "[[[0.17859731 0.32067963 0.27923529 0.82740732 0.28444771]\n",
      "  [0.12533796 0.242349   0.11936861 0.12966771 0.1829265 ]\n",
      "  [0.62507205 0.04361212 0.18663396 0.12345446 0.67041062]]\n",
      "\n",
      " [[0.8882127  0.47722856 0.52342262 0.53714614 0.20483356]\n",
      "  [0.9574217  0.94169856 0.66111027 0.47744334 0.29307712]\n",
      "  [0.19904885 0.1074272  0.58491449 0.95164437 0.09983978]]]\n"
     ]
    }
   ],
   "source": [
    "print(a)"
   ]
  },
  {
   "cell_type": "markdown",
   "metadata": {},
   "source": [
    "### 5. Create a 5x2x3 3-dimensional array with all values equaling 1.\n",
    "### Assign the array to variable \"b\"\n"
   ]
  },
  {
   "cell_type": "code",
   "execution_count": 5,
   "metadata": {},
   "outputs": [],
   "source": [
    "import numpy as np\n",
    "\n",
    "# Create a 5x2x3 array filled with 1s\n",
    "b = np.ones((5, 2, 3))"
   ]
  },
  {
   "cell_type": "markdown",
   "metadata": {},
   "source": [
    "\n",
    "### 6. Print b.\n"
   ]
  },
  {
   "cell_type": "code",
   "execution_count": 6,
   "metadata": {},
   "outputs": [
    {
     "name": "stdout",
     "output_type": "stream",
     "text": [
      "[[[1. 1. 1.]\n",
      "  [1. 1. 1.]]\n",
      "\n",
      " [[1. 1. 1.]\n",
      "  [1. 1. 1.]]\n",
      "\n",
      " [[1. 1. 1.]\n",
      "  [1. 1. 1.]]\n",
      "\n",
      " [[1. 1. 1.]\n",
      "  [1. 1. 1.]]\n",
      "\n",
      " [[1. 1. 1.]\n",
      "  [1. 1. 1.]]]\n"
     ]
    }
   ],
   "source": [
    "print(b)"
   ]
  },
  {
   "cell_type": "markdown",
   "metadata": {},
   "source": [
    "\n",
    "### 7. Do a and b have the same size? How do you prove that in Python code?\n"
   ]
  },
  {
   "cell_type": "code",
   "execution_count": 7,
   "metadata": {},
   "outputs": [
    {
     "name": "stdout",
     "output_type": "stream",
     "text": [
      "a and b have the same size.\n"
     ]
    }
   ],
   "source": [
    "a = [1, 2, 3]\n",
    "b = [4, 5, 6]\n",
    "\n",
    "# Check if they have the same length\n",
    "if len(a) == len(b):\n",
    "    print(\"a and b have the same size.\")\n",
    "else:\n",
    "    print(\"a and b do not have the same size.\")\n"
   ]
  },
  {
   "cell_type": "markdown",
   "metadata": {},
   "source": [
    "\n",
    "### 8. Are you able to add a and b? Why or why not?\n"
   ]
  },
  {
   "cell_type": "code",
   "execution_count": 8,
   "metadata": {},
   "outputs": [
    {
     "name": "stdout",
     "output_type": "stream",
     "text": [
      "Can a and b addes? False\n",
      "No because a and b don't have the same shape\n"
     ]
    }
   ],
   "source": [
    "a = np.random.rand(2,3,5)\n",
    "b = np.ones((5,2,3))\n",
    "can_add=a.shape==b.shape\n",
    "print(\"Can a and b addes?\",can_add)\n",
    "print(\"No because a and b don't have the same shape\")"
   ]
  },
  {
   "cell_type": "markdown",
   "metadata": {},
   "source": [
    "\n",
    "\n",
    "### 9. Transpose b so that it has the same structure of a (i.e. become a 2x3x5 array). Assign the transposed array to varialbe \"c\".\n"
   ]
  },
  {
   "cell_type": "code",
   "execution_count": 9,
   "metadata": {},
   "outputs": [
    {
     "name": "stdout",
     "output_type": "stream",
     "text": [
      "Array a shape: (2, 3, 5)\n",
      "Array c shape: (2, 5, 3)\n"
     ]
    }
   ],
   "source": [
    "import numpy as np\n",
    "\n",
    "# Define array a with shape (2, 3, 5)\n",
    "a = np.random.rand(2, 3, 5)  # Random array with shape 2x3x5\n",
    "\n",
    "# Define array b (let's assume b needs reshaping and transposition)\n",
    "b = np.random.rand(30)  # A flat array with 30 elements (can be reshaped into 2x3x5)\n",
    "\n",
    "# Reshape b into a 2x3x5 array\n",
    "c = b.reshape(2, 3, 5)\n",
    "\n",
    "# If you need to transpose the array (for example, swapping axes), you can do:\n",
    "c = np.transpose(c, (0, 2, 1))  # This swaps axis 1 and axis 2 (i.e., transposing)\n",
    "\n",
    "print(\"Array a shape:\", a.shape)\n",
    "print(\"Array c shape:\", c.shape)\n",
    "\n"
   ]
  },
  {
   "cell_type": "markdown",
   "metadata": {},
   "source": [
    "\n",
    "### 10. Try to add a and c. Now it should work. Assign the sum to variable \"d\". But why does it work now?\n"
   ]
  },
  {
   "cell_type": "code",
   "execution_count": 10,
   "metadata": {},
   "outputs": [
    {
     "name": "stdout",
     "output_type": "stream",
     "text": [
      "Shape of a: (2, 3, 5)\n",
      "Shape of c: (2, 3, 5)\n",
      "Shape of d: (2, 3, 5)\n"
     ]
    }
   ],
   "source": [
    "import numpy as np\n",
    "\n",
    "# Define array a with shape (2, 3, 5)\n",
    "a = np.random.rand(2, 3, 5)  # Random array with shape 2x3x5\n",
    "\n",
    "# Define array c (reshaped version of b, with shape 2x3x5)\n",
    "b = np.random.rand(30)  # A flat array with 30 elements (can be reshaped into 2x3x5)\n",
    "c = b.reshape(2, 3, 5)\n",
    "\n",
    "# Add a and c\n",
    "d = a + c\n",
    "\n",
    "print(\"Shape of a:\", a.shape)\n",
    "print(\"Shape of c:\", c.shape)\n",
    "print(\"Shape of d:\", d.shape)\n"
   ]
  },
  {
   "cell_type": "markdown",
   "metadata": {},
   "source": [
    "\n",
    "### 11. Print a and d. Notice the difference and relation of the two array in terms of the values? Explain.\n"
   ]
  },
  {
   "cell_type": "code",
   "execution_count": 11,
   "metadata": {},
   "outputs": [
    {
     "name": "stdout",
     "output_type": "stream",
     "text": [
      "Array a:\n",
      "[[[0.6425073  0.15226252 0.114399   0.52849202 0.1779881 ]\n",
      "  [0.67158984 0.0333585  0.8334329  0.4124452  0.93019325]\n",
      "  [0.16305388 0.87684794 0.84704566 0.85156739 0.15554908]]\n",
      "\n",
      " [[0.73090798 0.93958703 0.57926517 0.40292599 0.26484431]\n",
      "  [0.30485157 0.16464277 0.48641771 0.10740976 0.17761926]\n",
      "  [0.95739644 0.86336956 0.89418814 0.08121732 0.92417244]]]\n",
      "\n",
      "Array d (a + c):\n",
      "[[[1.49256144 0.4481022  1.05631698 0.64490907 1.15477419]\n",
      "  [1.328329   0.74326542 1.76997539 1.23132525 1.39643666]\n",
      "  [0.35739186 1.04486528 0.89632871 1.5846345  0.23971819]]\n",
      "\n",
      " [[1.10834792 1.60487219 1.18249993 1.13960099 1.07307673]\n",
      "  [0.77110444 0.55944568 0.56907849 0.72569853 0.8438693 ]\n",
      "  [1.7736534  1.24089552 0.98957622 1.07386686 1.01288384]]]\n"
     ]
    }
   ],
   "source": [
    "import numpy as np\n",
    "\n",
    "# Define array a with shape (2, 3, 5)\n",
    "a = np.random.rand(2, 3, 5)  # Random array with shape 2x3x5\n",
    "\n",
    "# Define array b and reshape it to create array c with shape (2, 3, 5)\n",
    "b = np.random.rand(30)  # A flat array with 30 elements\n",
    "c = b.reshape(2, 3, 5)\n",
    "\n",
    "# Add a and c to create d\n",
    "d = a + c\n",
    "\n",
    "# Print a and d to observe the difference\n",
    "print(\"Array a:\")\n",
    "print(a)\n",
    "print(\"\\nArray d (a + c):\")\n",
    "print(d)\n",
    "\n",
    "\n"
   ]
  },
  {
   "cell_type": "markdown",
   "metadata": {},
   "source": [
    "\n",
    "### 12. Multiply a and c. Assign the result to e.\n"
   ]
  },
  {
   "cell_type": "code",
   "execution_count": 12,
   "metadata": {},
   "outputs": [
    {
     "name": "stdout",
     "output_type": "stream",
     "text": [
      "Array a:\n",
      "[[[0.63616976 0.83208023 0.91136972 0.29737835 0.16739698]\n",
      "  [0.64208889 0.13749646 0.42142791 0.85154832 0.18371668]\n",
      "  [0.58796664 0.86475549 0.44617628 0.37515616 0.70494747]]\n",
      "\n",
      " [[0.06224099 0.25641337 0.39296272 0.25592025 0.83884617]\n",
      "  [0.97877843 0.88833761 0.1434054  0.18165921 0.03314164]\n",
      "  [0.9034667  0.68626392 0.82787877 0.37518894 0.97883533]]]\n",
      "\n",
      "Array c:\n",
      "[[[0.76176036 0.46356463 0.90398674 0.83113514 0.4695375 ]\n",
      "  [0.71896036 0.07557183 0.95039102 0.65508128 0.72162836]\n",
      "  [0.82804526 0.61437441 0.75457568 0.69570294 0.55996477]]\n",
      "\n",
      " [[0.08139594 0.29592173 0.03581912 0.45589463 0.19731845]\n",
      "  [0.02606572 0.55180339 0.57575887 0.56774457 0.38507561]\n",
      "  [0.48917503 0.30005247 0.19401724 0.96526048 0.05436049]]]\n",
      "\n",
      "Array e (a * c):\n",
      "[[[0.4846089  0.38572296 0.82386614 0.24716159 0.07859916]\n",
      "  [0.46163645 0.01039086 0.4005213  0.55783337 0.13257517]\n",
      "  [0.48686299 0.53128364 0.33667377 0.26099724 0.39474575]]\n",
      "\n",
      " [[0.00506616 0.07587829 0.01407558 0.11667267 0.16551983]\n",
      "  [0.02551256 0.4901877  0.08256693 0.10313603 0.01276204]\n",
      "  [0.44195335 0.20591518 0.16062276 0.36215506 0.05320996]]]\n"
     ]
    }
   ],
   "source": [
    "import numpy as np\n",
    "\n",
    "# Define array a with shape (2, 3, 5)\n",
    "a = np.random.rand(2, 3, 5)  # Random array with shape 2x3x5\n",
    "\n",
    "# Define array b and reshape it to create array c with shape (2, 3, 5)\n",
    "b = np.random.rand(30)  # A flat array with 30 elements\n",
    "c = b.reshape(2, 3, 5)\n",
    "\n",
    "# Multiply a and c to create e\n",
    "e = a * c\n",
    "\n",
    "# Print a, c, and e to observe the results\n",
    "print(\"Array a:\")\n",
    "print(a)\n",
    "print(\"\\nArray c:\")\n",
    "print(c)\n",
    "print(\"\\nArray e (a * c):\")\n",
    "print(e)\n"
   ]
  },
  {
   "cell_type": "markdown",
   "metadata": {},
   "source": [
    "\n",
    "\n",
    "### 13. Does e equal to a? Why or why not?\n"
   ]
  },
  {
   "cell_type": "code",
   "execution_count": 13,
   "metadata": {},
   "outputs": [
    {
     "name": "stdout",
     "output_type": "stream",
     "text": [
      "Does e equal a? False\n"
     ]
    }
   ],
   "source": [
    "import numpy as np\n",
    "\n",
    "# Define array a with shape (2, 3, 5)\n",
    "a = np.random.rand(2, 3, 5)  # Random array with shape 2x3x5\n",
    "\n",
    "# Define array b and reshape it to create array c with shape (2, 3, 5)\n",
    "b = np.random.rand(30)  # A flat array with 30 elements\n",
    "c = b.reshape(2, 3, 5)\n",
    "\n",
    "# Multiply a and c to create e\n",
    "e = a * c\n",
    "\n",
    "# Check if e is equal to a\n",
    "print(\"Does e equal a?\", np.array_equal(a, e))\n"
   ]
  },
  {
   "cell_type": "markdown",
   "metadata": {},
   "source": [
    "\n",
    "\n",
    "### 14. Identify the max, min, and mean values in d. Assign those values to variables \"d_max\", \"d_min\", and \"d_mean\"\n"
   ]
  },
  {
   "cell_type": "code",
   "execution_count": 14,
   "metadata": {},
   "outputs": [
    {
     "name": "stdout",
     "output_type": "stream",
     "text": [
      "Max value in d: 1.6549220859145017\n",
      "Min value in d: 0.2215157027778193\n",
      "Mean value in d: 0.8836448524733822\n"
     ]
    }
   ],
   "source": [
    "#import numpy as np\n",
    "\n",
    "# Define array a with shape (2, 3, 5)\n",
    "a = np.random.rand(2, 3, 5)  # Random array with shape 2x3x5\n",
    "\n",
    "# Define array b and reshape it to create array c with shape (2, 3, 5)\n",
    "b = np.random.rand(30)  # A flat array with 30 elements\n",
    "c = b.reshape(2, 3, 5)\n",
    "\n",
    "# Add a and c to create d\n",
    "d = a + c\n",
    "\n",
    "# Identify the max, min, and mean values in d\n",
    "d_max = np.max(d)\n",
    "d_min = np.min(d)\n",
    "d_mean = np.mean(d)\n",
    "\n",
    "# Print the results\n",
    "print(\"Max value in d:\", d_max)\n",
    "print(\"Min value in d:\", d_min)\n",
    "print(\"Mean value in d:\", d_mean)\n"
   ]
  },
  {
   "cell_type": "markdown",
   "metadata": {},
   "source": [
    "\n",
    "### 15. Now we want to label the values in d. First create an empty array \"f\" with the same shape (i.e. 2x3x5) as d using `np.empty`.\n"
   ]
  },
  {
   "cell_type": "code",
   "execution_count": 15,
   "metadata": {},
   "outputs": [
    {
     "name": "stdout",
     "output_type": "stream",
     "text": [
      "Shape of f: (2, 3, 5)\n"
     ]
    }
   ],
   "source": [
    "import numpy as np\n",
    "\n",
    "# Define array a with shape (2, 3, 5)\n",
    "a = np.random.rand(2, 3, 5)  # Random array with shape 2x3x5\n",
    "\n",
    "# Define array b and reshape it to create array c with shape (2, 3, 5)\n",
    "b = np.random.rand(30)  # A flat array with 30 elements\n",
    "c = b.reshape(2, 3, 5)\n",
    "\n",
    "# Add a and c to create d\n",
    "d = a + c\n",
    "\n",
    "# Create an empty array f with the same shape as d (2x3x5)\n",
    "f = np.empty_like(d)\n",
    "\n",
    "# Print the shape of f to verify\n",
    "print(\"Shape of f:\", f.shape)"
   ]
  },
  {
   "cell_type": "markdown",
   "metadata": {},
   "source": [
    "\n",
    "\n",
    "\n",
    "### 16. Populate the values in f. For each value in d, if it's larger than d_min but smaller than d_mean, assign 25 to the corresponding value in f.\n",
    "If a value in d is larger than d_mean but smaller than d_max, assign 75 to the corresponding value in f.\n",
    "If a value equals to d_mean, assign 50 to the corresponding value in f.\n",
    "Assign 0 to the corresponding value(s) in f for d_min in d.\n",
    "Assign 100 to the corresponding value(s) in f for d_max in d.\n",
    "In the end, f should have only the following values: 0, 25, 50, 75, and 100.\n",
    "Note: you don't have to use Numpy in this question.\n",
    "\n"
   ]
  },
  {
   "cell_type": "code",
   "execution_count": 16,
   "metadata": {},
   "outputs": [
    {
     "name": "stdout",
     "output_type": "stream",
     "text": [
      "Array f:\n",
      "[[[ 25.  25.  75.  75.  75.]\n",
      "  [100.  25.  25.  25.  75.]\n",
      "  [  0.  75.  25.  25.  75.]]\n",
      "\n",
      " [[ 75.  75.  75.  25.  25.]\n",
      "  [ 75.  25.  25.  25.  75.]\n",
      "  [ 25.  75.  25.  75.  75.]]]\n"
     ]
    }
   ],
   "source": [
    "import numpy as np\n",
    "\n",
    "# Define array a with shape (2, 3, 5)\n",
    "a = np.random.rand(2, 3, 5)  # Random array with shape 2x3x5\n",
    "\n",
    "# Define array b and reshape it to create array c with shape (2, 3, 5)\n",
    "b = np.random.rand(30)  # A flat array with 30 elements\n",
    "c = b.reshape(2, 3, 5)\n",
    "\n",
    "# Add a and c to create d\n",
    "d = a + c\n",
    "\n",
    "# Identify the max, min, and mean values in d\n",
    "d_max = np.max(d)\n",
    "d_min = np.min(d)\n",
    "d_mean = np.mean(d)\n",
    "\n",
    "# Create an empty array f with the same shape as d (2x3x5)\n",
    "f = np.empty_like(d)\n",
    "\n",
    "# Loop through the elements in d and populate f according to the rules\n",
    "for i in range(d.shape[0]):\n",
    "    for j in range(d.shape[1]):\n",
    "        for k in range(d.shape[2]):\n",
    "            if d[i, j, k] == d_max:\n",
    "                f[i, j, k] = 100\n",
    "            elif d[i, j, k] == d_min:\n",
    "                f[i, j, k] = 0\n",
    "            elif d[i, j, k] == d_mean:\n",
    "                f[i, j, k] = 50\n",
    "            elif d_min < d[i, j, k] < d_mean:\n",
    "                f[i, j, k] = 25\n",
    "            elif d_mean < d[i, j, k] < d_max:\n",
    "                f[i, j, k] = 75\n",
    "\n",
    "# Print the populated array f\n",
    "print(\"Array f:\")\n",
    "print(f)\n"
   ]
  },
  {
   "cell_type": "markdown",
   "metadata": {},
   "source": [
    "\n",
    "\n",
    "\n",
    "\n",
    "### 17. Print d and f. Do you have your expected f?\n",
    "For instance, if your d is:\n",
    "array([[[1.85836099, 1.67064465, 1.62576044, 1.40243961, 1.88454931],\n",
    "        [1.75354326, 1.69403643, 1.36729252, 1.61415071, 1.12104981],\n",
    "        [1.72201435, 1.1862918 , 1.87078449, 1.7726778 , 1.88180042]],\n",
    "\n",
    "       [[1.44747908, 1.31673383, 1.02000951, 1.52218947, 1.97066381],\n",
    "        [1.79129243, 1.74983003, 1.96028037, 1.85166831, 1.65450881],\n",
    "        [1.18068344, 1.9587381 , 1.00656599, 1.93402165, 1.73514584]]])\n",
    "\n",
    "Your f should be:\n",
    "array([[[ 75.,  75.,  75.,  25.,  75.],\n",
    "        [ 75.,  75.,  25.,  25.,  25.],\n",
    "        [ 75.,  25.,  75.,  75.,  75.]],\n",
    "\n",
    "       [[ 25.,  25.,  25.,  25., 100.],\n",
    "        [ 75.,  75.,  75.,  75.,  75.],\n",
    "        [ 25.,  75.,   0.,  75.,  75.]]])\n",
    "\n"
   ]
  },
  {
   "cell_type": "code",
   "execution_count": 17,
   "metadata": {},
   "outputs": [
    {
     "name": "stdout",
     "output_type": "stream",
     "text": [
      "Array d:\n",
      "[[[1.21780474 1.36509483 1.26735796 1.12182521 0.86438415]\n",
      "  [1.35480616 0.61956401 1.35887834 1.42329238 0.83507205]\n",
      "  [0.98814862 0.35993176 1.10906055 0.67235728 1.61254943]]\n",
      "\n",
      " [[1.51676587 0.93204819 0.4988603  0.95291459 0.48334884]\n",
      "  [1.36672769 1.69531575 1.7231275  1.44179472 1.39908476]\n",
      "  [0.35266242 1.24738848 0.70093034 0.53285567 1.65593361]]]\n",
      "\n",
      "Array f:\n",
      "[[[ 75.  75.  75.  75.  25.]\n",
      "  [ 75.  25.  75.  75.  25.]\n",
      "  [ 25.  25.  75.  25.  75.]]\n",
      "\n",
      " [[ 75.  25.  25.  25.  25.]\n",
      "  [ 75.  75. 100.  75.  75.]\n",
      "  [  0.  75.  25.  25.  75.]]]\n"
     ]
    }
   ],
   "source": [
    "import numpy as np\n",
    "\n",
    "# Define array a with shape (2, 3, 5)\n",
    "a = np.random.rand(2, 3, 5)  # Random array with shape 2x3x5\n",
    "\n",
    "# Define array b and reshape it to create array c with shape (2, 3, 5)\n",
    "b = np.random.rand(30)  # A flat array with 30 elements\n",
    "c = b.reshape(2, 3, 5)\n",
    "\n",
    "# Add a and c to create d\n",
    "d = a + c\n",
    "\n",
    "# Identify the max, min, and mean values in d\n",
    "d_max = np.max(d)\n",
    "d_min = np.min(d)\n",
    "d_mean = np.mean(d)\n",
    "\n",
    "# Create an empty array f with the same shape as d (2x3x5)\n",
    "f = np.empty_like(d)\n",
    "\n",
    "# Loop through the elements in d and populate f according to the rules\n",
    "for i in range(d.shape[0]):\n",
    "    for j in range(d.shape[1]):\n",
    "        for k in range(d.shape[2]):\n",
    "            if d[i, j, k] == d_max:\n",
    "                f[i, j, k] = 100\n",
    "            elif d[i, j, k] == d_min:\n",
    "                f[i, j, k] = 0\n",
    "            elif d[i, j, k] == d_mean:\n",
    "                f[i, j, k] = 50\n",
    "            elif d_min < d[i, j, k] < d_mean:\n",
    "                f[i, j, k] = 25\n",
    "            elif d_mean < d[i, j, k] < d_max:\n",
    "                f[i, j, k] = 75\n",
    "\n",
    "# Print d and f to compare the results\n",
    "print(\"Array d:\")\n",
    "print(d)\n",
    "\n",
    "print(\"\\nArray f:\")\n",
    "print(f)\n"
   ]
  },
  {
   "cell_type": "markdown",
   "metadata": {},
   "source": [
    "### 18. Bonus question: instead of using numbers (i.e. 0, 25, 50, 75, and 100), how to use string values \n",
    "(\"A\", \"B\", \"C\", \"D\", and \"E\") to label the array elements? You are expecting the result to be:\n",
    "array([[[ 'D',  'D',  'D',  'B',  'D'],\n",
    "        [ 'D',  'D',  'B',  'B',  'B'],\n",
    "        [ 'D',  'B',  'D',  'D',  'D']],\n",
    "\n",
    "       [[ 'B',  'B',  'B',  'B',  'E'],\n",
    "        [ 'D',  'D',  'D',  'D',  'D'],\n",
    "        [ 'B',  'D',   'A',  'D', 'D']]])\n",
    "Again, you don't need Numpy in this question."
   ]
  },
  {
   "cell_type": "code",
   "execution_count": 18,
   "metadata": {},
   "outputs": [
    {
     "name": "stdout",
     "output_type": "stream",
     "text": [
      "Array f with string labels:\n",
      "[[['D' 'B' 'D' 'E' 'B']\n",
      "  ['D' 'D' 'D' 'D' 'B']\n",
      "  ['B' 'D' 'D' 'B' 'B']]\n",
      "\n",
      " [['A' 'D' 'B' 'B' 'B']\n",
      "  ['B' 'D' 'D' 'D' 'D']\n",
      "  ['D' 'B' 'B' 'B' 'B']]]\n"
     ]
    }
   ],
   "source": [
    "import numpy as np\n",
    "\n",
    "# Define array a with shape (2, 3, 5)\n",
    "a = np.random.rand(2, 3, 5)  # Random array with shape 2x3x5\n",
    "\n",
    "# Define array b and reshape it to create array c with shape (2, 3, 5)\n",
    "b = np.random.rand(30)  # A flat array with 30 elements\n",
    "c = b.reshape(2, 3, 5)\n",
    "\n",
    "# Add a and c to create d\n",
    "d = a + c\n",
    "\n",
    "# Identify the max, min, and mean values in d\n",
    "d_max = np.max(d)\n",
    "d_min = np.min(d)\n",
    "d_mean = np.mean(d)\n",
    "\n",
    "# Create an empty array f with the same shape as d (2x3x5), but with string data type\n",
    "f = np.empty_like(d, dtype=object)  # Use dtype=object to store strings\n",
    "\n",
    "# Loop through the elements in d and populate f according to the rules\n",
    "for i in range(d.shape[0]):\n",
    "    for j in range(d.shape[1]):\n",
    "        for k in range(d.shape[2]):\n",
    "            if d[i, j, k] == d_max:\n",
    "                f[i, j, k] = \"E\"\n",
    "            elif d[i, j, k] == d_min:\n",
    "                f[i, j, k] = \"A\"\n",
    "            elif d[i, j, k] == d_mean:\n",
    "                f[i, j, k] = \"C\"\n",
    "            elif d_min < d[i, j, k] < d_mean:\n",
    "                f[i, j, k] = \"B\"\n",
    "            elif d_mean < d[i, j, k] < d_max:\n",
    "                f[i, j, k] = \"D\"\n",
    "\n",
    "# Print the populated array f\n",
    "print(\"Array f with string labels:\")\n",
    "print(f)\n"
   ]
  }
 ],
 "metadata": {
  "kernelspec": {
   "display_name": "Python 3",
   "language": "python",
   "name": "python3"
  },
  "language_info": {
   "codemirror_mode": {
    "name": "ipython",
    "version": 3
   },
   "file_extension": ".py",
   "mimetype": "text/x-python",
   "name": "python",
   "nbconvert_exporter": "python",
   "pygments_lexer": "ipython3",
   "version": "3.11.5"
  },
  "vscode": {
   "interpreter": {
    "hash": "aee8b7b246df8f9039afb4144a1f6fd8d2ca17a180786b69acc140d282b71a49"
   }
  }
 },
 "nbformat": 4,
 "nbformat_minor": 2
}
